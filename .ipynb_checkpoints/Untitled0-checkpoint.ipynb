{
 "metadata": {
  "name": "",
  "signature": "sha256:810f770a000409f684225d8a851819239b25be11a88854def29ec2deb7c51469"
 },
 "nbformat": 3,
 "nbformat_minor": 0,
 "worksheets": []
}